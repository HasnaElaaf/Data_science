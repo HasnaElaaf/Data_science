{
  "cells": [
    {
      "cell_type": "markdown",
      "metadata": {
        "id": "9c5e64dc-2bc7-4640-9b71-877eda7b6100"
      },
      "source": [
        "<center>\n",
        "    <img src=\"https://cf-courses-data.s3.us.cloud-object-storage.appdomain.cloud/IBMDeveloperSkillsNetwork-DS0105EN-SkillsNetwork/labs/Module2/images/SN_web_lightmode.png\" width=\"300\" alt=\"cognitiveclass.ai logo\">\n",
        "</center>\n"
      ]
    },
    {
      "cell_type": "markdown",
      "metadata": {
        "id": "8b126e2f-912e-42e0-8d57-43862ac465fc"
      },
      "source": [
        "### **Add your code below following the instructions given in the course**\n"
      ]
    },
    {
      "cell_type": "markdown",
      "source": [
        "# **Data Science Tools and Ecosystem**"
      ],
      "metadata": {
        "id": "KgafN77VdHVX"
      }
    },
    {
      "cell_type": "markdown",
      "source": [
        "# In this netebook, Data science Tools and Ecosystem are summarized"
      ],
      "metadata": {
        "id": "7NJfbeHSfSfu"
      }
    },
    {
      "cell_type": "markdown",
      "source": [
        "# **Objectives:**\n",
        "\n",
        "\n",
        "*  List some of the popular languages used by Data Scientists\n",
        "*  List the libraries commonly used by Data Scientists\n",
        "\n",
        "*  List a few popular tools used by Data Scientists\n",
        "*  Evaluate a couple simple arithmetic expressions using Python\n",
        "\n",
        "\n",
        "\n",
        "\n",
        "\n",
        "\n"
      ],
      "metadata": {
        "id": "RYEQFcdukYCb"
      }
    },
    {
      "cell_type": "markdown",
      "source": [
        "# **Some of the popular languages that Data Sientists use are:**\n",
        "\n",
        "\n",
        "1.   Python\n",
        "2.   R\n",
        "\n",
        "1.   Julia\n",
        "2.   Ruby\n",
        "\n",
        "1.   Pandas\n",
        "2.  Javascript\n",
        "\n",
        "\n",
        "\n",
        "\n",
        "\n",
        "\n",
        "\n"
      ],
      "metadata": {
        "id": "zoZnVPSUgFMm"
      }
    },
    {
      "cell_type": "markdown",
      "source": [
        "# **Some of the commonly used libraries used by Data Scientists include:**\n",
        "\n",
        "1.   Scikit-Learn\n",
        "2.   Plotly\n",
        "1.   SciPy\n",
        "2.  PyTorch\n",
        "1.   Apache Spark\n",
        "2.  NumPy\n",
        "\n",
        "\n",
        "\n",
        "\n",
        "\n",
        "\n",
        "\n",
        "\n"
      ],
      "metadata": {
        "id": "9BCtEjZSgpXV"
      }
    },
    {
      "cell_type": "markdown",
      "source": [
        "\n",
        " | Data science Tools              |\n",
        "|--------------------|\n",
        " | Jupyter Notebook   |\n",
        "| Apache Hadoop      |\n",
        "| Apache Spark       |    \n",
        "\n",
        "\n",
        "\n"
      ],
      "metadata": {
        "id": "zX3WqRUwh2DU"
      }
    },
    {
      "cell_type": "markdown",
      "source": [
        "# **Below are a few examples of evaluating arithmetic expressions in Python**"
      ],
      "metadata": {
        "id": "i_HgMqgUjHgi"
      }
    },
    {
      "cell_type": "code",
      "source": [
        "#This is a simple arithmetic expression to multiply then add integers\n",
        "\n",
        "(3*4)+5"
      ],
      "metadata": {
        "colab": {
          "base_uri": "https://localhost:8080/"
        },
        "id": "mSm1CIVzjkSn",
        "outputId": "692a4e72-b16c-4b7b-ceef-f346a07e8819"
      },
      "execution_count": 1,
      "outputs": [
        {
          "output_type": "execute_result",
          "data": {
            "text/plain": [
              "17"
            ]
          },
          "metadata": {},
          "execution_count": 1
        }
      ]
    },
    {
      "cell_type": "code",
      "source": [
        "#This will convert 200 minutes to hours by dividing by 60\n",
        "\n",
        "hours = 200\n",
        "minutes = 60\n",
        "hrs = hours//minutes\n",
        "\n",
        "print(hours//minutes,\"hrs\")"
      ],
      "metadata": {
        "colab": {
          "base_uri": "https://localhost:8080/"
        },
        "id": "VFkchHSmjxot",
        "outputId": "6477e048-181d-4d67-a30d-874282133c25"
      },
      "execution_count": 2,
      "outputs": [
        {
          "output_type": "stream",
          "name": "stdout",
          "text": [
            "3 hrs\n"
          ]
        }
      ]
    },
    {
      "cell_type": "markdown",
      "source": [
        "## **Author**\n",
        "\n",
        "Hasna EL-GLALEF\n"
      ],
      "metadata": {
        "id": "P2SSfNooeIPB"
      }
    }
  ],
  "metadata": {
    "kernelspec": {
      "display_name": "Python",
      "language": "python",
      "name": "conda-env-python-py"
    },
    "language_info": {
      "name": "python",
      "version": "3.7.12",
      "mimetype": "text/x-python",
      "codemirror_mode": {
        "name": "ipython",
        "version": 3
      },
      "pygments_lexer": "ipython3",
      "nbconvert_exporter": "python",
      "file_extension": ".py"
    },
    "prev_pub_hash": "9e1985db9844176462bd1d5863048c9f3d17404bbc6a648be9084b0c42b29347",
    "colab": {
      "provenance": []
    }
  },
  "nbformat": 4,
  "nbformat_minor": 0
}